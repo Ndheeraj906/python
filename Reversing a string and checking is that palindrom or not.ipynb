{
 "cells": [
  {
   "cell_type": "code",
   "execution_count": 7,
   "id": "c434705d-8b1b-481e-8d91-edfb67ab5d16",
   "metadata": {},
   "outputs": [
    {
     "name": "stdin",
     "output_type": "stream",
     "text": [
      " level\n"
     ]
    },
    {
     "name": "stdout",
     "output_type": "stream",
     "text": [
      "l\n",
      "le\n",
      "lev\n",
      "leve\n",
      "level\n",
      "Reverse of M: level\n",
      "yes its a palindrom\n"
     ]
    }
   ],
   "source": [
    "M=str(input())\n",
    "D=\"\"\n",
    "for N in M:\n",
    "    D=N+D\n",
    "    print(D)\n",
    "print(\"Reverse of M:\",D)\n",
    "if M==D:\n",
    "    print(\"yes its a palindrom\")\n",
    "else:\n",
    "    print(\"no its not a palindrom\")\n"
   ]
  },
  {
   "cell_type": "code",
   "execution_count": null,
   "id": "067c1337-1d9e-41a5-b07b-8b3c2a2f8a4d",
   "metadata": {},
   "outputs": [],
   "source": []
  }
 ],
 "metadata": {
  "kernelspec": {
   "display_name": "Python 3 (ipykernel)",
   "language": "python",
   "name": "python3"
  },
  "language_info": {
   "codemirror_mode": {
    "name": "ipython",
    "version": 3
   },
   "file_extension": ".py",
   "mimetype": "text/x-python",
   "name": "python",
   "nbconvert_exporter": "python",
   "pygments_lexer": "ipython3",
   "version": "3.12.4"
  }
 },
 "nbformat": 4,
 "nbformat_minor": 5
}
